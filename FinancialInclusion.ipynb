{
  "nbformat": 4,
  "nbformat_minor": 0,
  "metadata": {
    "colab": {
      "provenance": []
    },
    "kernelspec": {
      "name": "python3",
      "display_name": "Python 3"
    },
    "language_info": {
      "name": "python"
    }
  },
  "cells": [
    {
      "cell_type": "markdown",
      "source": [
        "# Predicting Financial Inclusion In East Africa\n",
        "\n",
        "\n",
        "### a) Specifying the Data Analytic Question\n",
        "\n",
        "> The research question is to figure out how we can predict which individuals are most likely to have or use a bank account. The solution will help provide an indication of the state of financial inclusion in Kenya, Rwanda, Tanzania, and Uganda, while providing insights into some of the key demographic factors that might drive individuals’ financial outcomes.\n",
        "\n",
        "### b) Defining the Metric for Success\n",
        "> Being able to predict which individuals are most likely to have or use a bank account as this will help provide an indication of the state of financial inclusion in East Africa.\n",
        "\n",
        "### c) Understanding the context\n",
        "\n",
        "> Financial Inclusion remains one of the main obstacles to economic and human development in Africa. For example, across Kenya, Rwanda, Tanzania, and Uganda only 9.1 million adults (or 13.9% of the adult population) have access to or use a commercial bank account.\n",
        "\n",
        "> The research problem is to figure out how we can predict which individuals are most likely to have or use a bank account. Your solution will help provide an indication of the state of financial inclusion in Kenya, Rwanda, Tanzania, and Uganda, while providing insights into some of the key demographic factors that might drive individuals’ financial outcomes\n",
        "\n",
        "### d) Recording the Experimental Design\n",
        "\n",
        "> Reading the datasets into our environment.\n",
        "Tidying the data by checking for outliers, null values and duplicates and dealing with them.\n",
        "Performing univariate, bivariate and multivariate analysis and recording the observations.\n",
        "Implementing the solution by performing the respective analysis i.e. principal component analysis and discriminant analysis.\n",
        "Challenge your solution by providing insights on how you can make improvements.\n",
        "\n",
        "### e) Data Relevance\n",
        "\n",
        "> The data we have is relevant since we need key demographic factors such as age, income, household size, gender, marital status, type of job and level of education to provide an indication of the state of financial inclusion in the respective countries.\n",
        "\n",
        "Dataset\n",
        "\n",
        "> The main dataset contains demographic information and what financial services are used by individuals across East Africa. This data was extracted from various Finscope surveys ranging from 2016 to 2018. Dataset Files:\n",
        "\n",
        "> Variable Definitions: http://bit.ly/VariableDefinitions (Links to an external site.)\n",
        "\n",
        "> Dataset: http://bit.ly/FinancialDataset (Links to an external site.)\n",
        "\n",
        "## Work Plan\n",
        "This notebook covers:\n",
        "- Loading the data\n",
        "- Simple EDA and an example of feature enginnering\n",
        "- Data preprocessing and data wrangling\n",
        "- Creating a simple model"
      ],
      "metadata": {
        "id": "9srpiVVPhBLM"
      }
    },
    {
      "cell_type": "markdown",
      "source": [
        "# IMPORTING LIBRARIES"
      ],
      "metadata": {
        "id": "LD8TRbashFhc"
      }
    },
    {
      "cell_type": "code",
      "execution_count": null,
      "metadata": {
        "id": "C45HGaXGgpDP"
      },
      "outputs": [],
      "source": [
        "# Libraries for working with the dataframe and plotting\n",
        "\n",
        "import pandas as pd\n",
        "import numpy as np\n",
        "import seaborn as sns\n",
        "import matplotlib.pyplot as plt\n",
        "\n",
        "# Statistical libraries\n",
        "from statistics import median\n",
        "from statistics import mean\n",
        "\n",
        "\n",
        "# Libraries for machine learning\n",
        "from lightgbm import LGBMClassifier\n",
        "from sklearn.model_selection import train_test_split\n",
        "from sklearn.metrics import accuracy_score\n",
        "\n",
        "import warnings\n",
        "warnings.filterwarnings('ignore')"
      ]
    },
    {
      "cell_type": "code",
      "source": [
        "# Using git to save the datasets\n",
        "url1 = 'https://raw.githubusercontent.com/Mwangi-Gichuki/Financial_Inclusion/main/Test.csv'\n",
        "url2 = 'https://raw.githubusercontent.com/Mwangi-Gichuki/Financial_Inclusion/main/Train.csv'\n",
        "url3 = 'https://raw.githubusercontent.com/Mwangi-Gichuki/Financial_Inclusion/main/VariableDefinitions.csv'\n",
        "url4 = 'https://raw.githubusercontent.com/Mwangi-Gichuki/Financial_Inclusion/main/TrainDirty.csv'\n",
        "\n",
        "# Loading the data into pandas dataframes\n",
        "test = pd.read_csv(url1)\n",
        "train = pd.read_csv(url2)\n",
        "variables = pd.read_csv(url3)\n",
        "\n",
        "# Initial Data Provided is clean so I created a dirty version (traindirty)to enable perfom parts of the assignment\n",
        "\n",
        "dirty = pd.read_csv(url4)\n"
      ],
      "metadata": {
        "id": "53yUS8h55irg"
      },
      "execution_count": null,
      "outputs": []
    },
    {
      "cell_type": "markdown",
      "source": [
        "## Understanding the Dataset"
      ],
      "metadata": {
        "id": "hlF7UhT-lVaq"
      }
    },
    {
      "cell_type": "code",
      "source": [
        "# Observing the shape of the test and train datasets\n",
        "print('test data shape :', test.shape)\n",
        "print('train data shape :', train.shape)"
      ],
      "metadata": {
        "colab": {
          "base_uri": "https://localhost:8080/"
        },
        "id": "i-lEIPFjlcw4",
        "outputId": "3a288f6b-3e11-4487-fb52-d800b4e902e5"
      },
      "execution_count": null,
      "outputs": [
        {
          "output_type": "stream",
          "name": "stdout",
          "text": [
            "test data shape : (10086, 12)\n",
            "train data shape : (23524, 13)\n"
          ]
        }
      ]
    },
    {
      "cell_type": "markdown",
      "source": [
        "The train dataset has 23,524 rows and 13 columns while the test dataset has 10,086 rows and 12 columns. Further exploration to understand the train dataset as it will be used for coming up with the ML model"
      ],
      "metadata": {
        "id": "JGZ9DCp6loe6"
      }
    },
    {
      "cell_type": "code",
      "source": [
        "train.head()"
      ],
      "metadata": {
        "colab": {
          "base_uri": "https://localhost:8080/",
          "height": 250
        },
        "id": "KeSYoGdqlO2f",
        "outputId": "41089e4b-9207-4afd-82cb-dfcee232a3ad"
      },
      "execution_count": null,
      "outputs": [
        {
          "output_type": "execute_result",
          "data": {
            "text/plain": [
              "  country  year    uniqueid bank_account location_type cellphone_access  \\\n",
              "0   Kenya  2018  uniqueid_1          Yes         Rural              Yes   \n",
              "1   Kenya  2018  uniqueid_2           No         Rural               No   \n",
              "2   Kenya  2018  uniqueid_3          Yes         Urban              Yes   \n",
              "3   Kenya  2018  uniqueid_4           No         Rural              Yes   \n",
              "4   Kenya  2018  uniqueid_5           No         Urban               No   \n",
              "\n",
              "   household_size  age_of_respondent gender_of_respondent  \\\n",
              "0               3                 24               Female   \n",
              "1               5                 70               Female   \n",
              "2               5                 26                 Male   \n",
              "3               5                 34               Female   \n",
              "4               8                 26                 Male   \n",
              "\n",
              "  relationship_with_head           marital_status  \\\n",
              "0                 Spouse  Married/Living together   \n",
              "1      Head of Household                  Widowed   \n",
              "2         Other relative     Single/Never Married   \n",
              "3      Head of Household  Married/Living together   \n",
              "4                  Child     Single/Never Married   \n",
              "\n",
              "                   education_level                   job_type  \n",
              "0              Secondary education              Self employed  \n",
              "1              No formal education       Government Dependent  \n",
              "2  Vocational/Specialised training              Self employed  \n",
              "3                Primary education  Formally employed Private  \n",
              "4                Primary education        Informally employed  "
            ],
            "text/html": [
              "\n",
              "  <div id=\"df-db46669b-4b19-40d1-b36f-97e1947146fa\">\n",
              "    <div class=\"colab-df-container\">\n",
              "      <div>\n",
              "<style scoped>\n",
              "    .dataframe tbody tr th:only-of-type {\n",
              "        vertical-align: middle;\n",
              "    }\n",
              "\n",
              "    .dataframe tbody tr th {\n",
              "        vertical-align: top;\n",
              "    }\n",
              "\n",
              "    .dataframe thead th {\n",
              "        text-align: right;\n",
              "    }\n",
              "</style>\n",
              "<table border=\"1\" class=\"dataframe\">\n",
              "  <thead>\n",
              "    <tr style=\"text-align: right;\">\n",
              "      <th></th>\n",
              "      <th>country</th>\n",
              "      <th>year</th>\n",
              "      <th>uniqueid</th>\n",
              "      <th>bank_account</th>\n",
              "      <th>location_type</th>\n",
              "      <th>cellphone_access</th>\n",
              "      <th>household_size</th>\n",
              "      <th>age_of_respondent</th>\n",
              "      <th>gender_of_respondent</th>\n",
              "      <th>relationship_with_head</th>\n",
              "      <th>marital_status</th>\n",
              "      <th>education_level</th>\n",
              "      <th>job_type</th>\n",
              "    </tr>\n",
              "  </thead>\n",
              "  <tbody>\n",
              "    <tr>\n",
              "      <th>0</th>\n",
              "      <td>Kenya</td>\n",
              "      <td>2018</td>\n",
              "      <td>uniqueid_1</td>\n",
              "      <td>Yes</td>\n",
              "      <td>Rural</td>\n",
              "      <td>Yes</td>\n",
              "      <td>3</td>\n",
              "      <td>24</td>\n",
              "      <td>Female</td>\n",
              "      <td>Spouse</td>\n",
              "      <td>Married/Living together</td>\n",
              "      <td>Secondary education</td>\n",
              "      <td>Self employed</td>\n",
              "    </tr>\n",
              "    <tr>\n",
              "      <th>1</th>\n",
              "      <td>Kenya</td>\n",
              "      <td>2018</td>\n",
              "      <td>uniqueid_2</td>\n",
              "      <td>No</td>\n",
              "      <td>Rural</td>\n",
              "      <td>No</td>\n",
              "      <td>5</td>\n",
              "      <td>70</td>\n",
              "      <td>Female</td>\n",
              "      <td>Head of Household</td>\n",
              "      <td>Widowed</td>\n",
              "      <td>No formal education</td>\n",
              "      <td>Government Dependent</td>\n",
              "    </tr>\n",
              "    <tr>\n",
              "      <th>2</th>\n",
              "      <td>Kenya</td>\n",
              "      <td>2018</td>\n",
              "      <td>uniqueid_3</td>\n",
              "      <td>Yes</td>\n",
              "      <td>Urban</td>\n",
              "      <td>Yes</td>\n",
              "      <td>5</td>\n",
              "      <td>26</td>\n",
              "      <td>Male</td>\n",
              "      <td>Other relative</td>\n",
              "      <td>Single/Never Married</td>\n",
              "      <td>Vocational/Specialised training</td>\n",
              "      <td>Self employed</td>\n",
              "    </tr>\n",
              "    <tr>\n",
              "      <th>3</th>\n",
              "      <td>Kenya</td>\n",
              "      <td>2018</td>\n",
              "      <td>uniqueid_4</td>\n",
              "      <td>No</td>\n",
              "      <td>Rural</td>\n",
              "      <td>Yes</td>\n",
              "      <td>5</td>\n",
              "      <td>34</td>\n",
              "      <td>Female</td>\n",
              "      <td>Head of Household</td>\n",
              "      <td>Married/Living together</td>\n",
              "      <td>Primary education</td>\n",
              "      <td>Formally employed Private</td>\n",
              "    </tr>\n",
              "    <tr>\n",
              "      <th>4</th>\n",
              "      <td>Kenya</td>\n",
              "      <td>2018</td>\n",
              "      <td>uniqueid_5</td>\n",
              "      <td>No</td>\n",
              "      <td>Urban</td>\n",
              "      <td>No</td>\n",
              "      <td>8</td>\n",
              "      <td>26</td>\n",
              "      <td>Male</td>\n",
              "      <td>Child</td>\n",
              "      <td>Single/Never Married</td>\n",
              "      <td>Primary education</td>\n",
              "      <td>Informally employed</td>\n",
              "    </tr>\n",
              "  </tbody>\n",
              "</table>\n",
              "</div>\n",
              "      <button class=\"colab-df-convert\" onclick=\"convertToInteractive('df-db46669b-4b19-40d1-b36f-97e1947146fa')\"\n",
              "              title=\"Convert this dataframe to an interactive table.\"\n",
              "              style=\"display:none;\">\n",
              "        \n",
              "  <svg xmlns=\"http://www.w3.org/2000/svg\" height=\"24px\"viewBox=\"0 0 24 24\"\n",
              "       width=\"24px\">\n",
              "    <path d=\"M0 0h24v24H0V0z\" fill=\"none\"/>\n",
              "    <path d=\"M18.56 5.44l.94 2.06.94-2.06 2.06-.94-2.06-.94-.94-2.06-.94 2.06-2.06.94zm-11 1L8.5 8.5l.94-2.06 2.06-.94-2.06-.94L8.5 2.5l-.94 2.06-2.06.94zm10 10l.94 2.06.94-2.06 2.06-.94-2.06-.94-.94-2.06-.94 2.06-2.06.94z\"/><path d=\"M17.41 7.96l-1.37-1.37c-.4-.4-.92-.59-1.43-.59-.52 0-1.04.2-1.43.59L10.3 9.45l-7.72 7.72c-.78.78-.78 2.05 0 2.83L4 21.41c.39.39.9.59 1.41.59.51 0 1.02-.2 1.41-.59l7.78-7.78 2.81-2.81c.8-.78.8-2.07 0-2.86zM5.41 20L4 18.59l7.72-7.72 1.47 1.35L5.41 20z\"/>\n",
              "  </svg>\n",
              "      </button>\n",
              "      \n",
              "  <style>\n",
              "    .colab-df-container {\n",
              "      display:flex;\n",
              "      flex-wrap:wrap;\n",
              "      gap: 12px;\n",
              "    }\n",
              "\n",
              "    .colab-df-convert {\n",
              "      background-color: #E8F0FE;\n",
              "      border: none;\n",
              "      border-radius: 50%;\n",
              "      cursor: pointer;\n",
              "      display: none;\n",
              "      fill: #1967D2;\n",
              "      height: 32px;\n",
              "      padding: 0 0 0 0;\n",
              "      width: 32px;\n",
              "    }\n",
              "\n",
              "    .colab-df-convert:hover {\n",
              "      background-color: #E2EBFA;\n",
              "      box-shadow: 0px 1px 2px rgba(60, 64, 67, 0.3), 0px 1px 3px 1px rgba(60, 64, 67, 0.15);\n",
              "      fill: #174EA6;\n",
              "    }\n",
              "\n",
              "    [theme=dark] .colab-df-convert {\n",
              "      background-color: #3B4455;\n",
              "      fill: #D2E3FC;\n",
              "    }\n",
              "\n",
              "    [theme=dark] .colab-df-convert:hover {\n",
              "      background-color: #434B5C;\n",
              "      box-shadow: 0px 1px 3px 1px rgba(0, 0, 0, 0.15);\n",
              "      filter: drop-shadow(0px 1px 2px rgba(0, 0, 0, 0.3));\n",
              "      fill: #FFFFFF;\n",
              "    }\n",
              "  </style>\n",
              "\n",
              "      <script>\n",
              "        const buttonEl =\n",
              "          document.querySelector('#df-db46669b-4b19-40d1-b36f-97e1947146fa button.colab-df-convert');\n",
              "        buttonEl.style.display =\n",
              "          google.colab.kernel.accessAllowed ? 'block' : 'none';\n",
              "\n",
              "        async function convertToInteractive(key) {\n",
              "          const element = document.querySelector('#df-db46669b-4b19-40d1-b36f-97e1947146fa');\n",
              "          const dataTable =\n",
              "            await google.colab.kernel.invokeFunction('convertToInteractive',\n",
              "                                                     [key], {});\n",
              "          if (!dataTable) return;\n",
              "\n",
              "          const docLinkHtml = 'Like what you see? Visit the ' +\n",
              "            '<a target=\"_blank\" href=https://colab.research.google.com/notebooks/data_table.ipynb>data table notebook</a>'\n",
              "            + ' to learn more about interactive tables.';\n",
              "          element.innerHTML = '';\n",
              "          dataTable['output_type'] = 'display_data';\n",
              "          await google.colab.output.renderOutput(dataTable, element);\n",
              "          const docLink = document.createElement('div');\n",
              "          docLink.innerHTML = docLinkHtml;\n",
              "          element.appendChild(docLink);\n",
              "        }\n",
              "      </script>\n",
              "    </div>\n",
              "  </div>\n",
              "  "
            ]
          },
          "metadata": {},
          "execution_count": 49
        }
      ]
    },
    {
      "cell_type": "code",
      "source": [
        "test.head()"
      ],
      "metadata": {
        "colab": {
          "base_uri": "https://localhost:8080/",
          "height": 206
        },
        "id": "bMwSC0QYlrey",
        "outputId": "8a6d1f21-057e-4c58-8fc8-9670625385f3"
      },
      "execution_count": null,
      "outputs": [
        {
          "output_type": "execute_result",
          "data": {
            "text/plain": [
              "  country  year       uniqueid location_type cellphone_access  household_size  \\\n",
              "0   Kenya  2018  uniqueid_6056         Urban              Yes               3   \n",
              "1   Kenya  2018  uniqueid_6060         Urban              Yes               7   \n",
              "2   Kenya  2018  uniqueid_6065         Rural               No               3   \n",
              "3   Kenya  2018  uniqueid_6072         Rural               No               6   \n",
              "4   Kenya  2018  uniqueid_6073         Urban               No               3   \n",
              "\n",
              "   age_of_respondent gender_of_respondent relationship_with_head  \\\n",
              "0                 30                 Male      Head of Household   \n",
              "1                 51                 Male      Head of Household   \n",
              "2                 77               Female                 Parent   \n",
              "3                 39               Female      Head of Household   \n",
              "4                 16                 Male                  Child   \n",
              "\n",
              "            marital_status                  education_level  \\\n",
              "0  Married/Living together              Secondary education   \n",
              "1  Married/Living together  Vocational/Specialised training   \n",
              "2  Married/Living together              No formal education   \n",
              "3  Married/Living together                Primary education   \n",
              "4     Single/Never Married              Secondary education   \n",
              "\n",
              "                       job_type  \n",
              "0  Formally employed Government  \n",
              "1     Formally employed Private  \n",
              "2          Remittance Dependent  \n",
              "3          Remittance Dependent  \n",
              "4          Remittance Dependent  "
            ],
            "text/html": [
              "\n",
              "  <div id=\"df-981e9996-46f9-4b8f-b412-a262d491ae54\">\n",
              "    <div class=\"colab-df-container\">\n",
              "      <div>\n",
              "<style scoped>\n",
              "    .dataframe tbody tr th:only-of-type {\n",
              "        vertical-align: middle;\n",
              "    }\n",
              "\n",
              "    .dataframe tbody tr th {\n",
              "        vertical-align: top;\n",
              "    }\n",
              "\n",
              "    .dataframe thead th {\n",
              "        text-align: right;\n",
              "    }\n",
              "</style>\n",
              "<table border=\"1\" class=\"dataframe\">\n",
              "  <thead>\n",
              "    <tr style=\"text-align: right;\">\n",
              "      <th></th>\n",
              "      <th>country</th>\n",
              "      <th>year</th>\n",
              "      <th>uniqueid</th>\n",
              "      <th>location_type</th>\n",
              "      <th>cellphone_access</th>\n",
              "      <th>household_size</th>\n",
              "      <th>age_of_respondent</th>\n",
              "      <th>gender_of_respondent</th>\n",
              "      <th>relationship_with_head</th>\n",
              "      <th>marital_status</th>\n",
              "      <th>education_level</th>\n",
              "      <th>job_type</th>\n",
              "    </tr>\n",
              "  </thead>\n",
              "  <tbody>\n",
              "    <tr>\n",
              "      <th>0</th>\n",
              "      <td>Kenya</td>\n",
              "      <td>2018</td>\n",
              "      <td>uniqueid_6056</td>\n",
              "      <td>Urban</td>\n",
              "      <td>Yes</td>\n",
              "      <td>3</td>\n",
              "      <td>30</td>\n",
              "      <td>Male</td>\n",
              "      <td>Head of Household</td>\n",
              "      <td>Married/Living together</td>\n",
              "      <td>Secondary education</td>\n",
              "      <td>Formally employed Government</td>\n",
              "    </tr>\n",
              "    <tr>\n",
              "      <th>1</th>\n",
              "      <td>Kenya</td>\n",
              "      <td>2018</td>\n",
              "      <td>uniqueid_6060</td>\n",
              "      <td>Urban</td>\n",
              "      <td>Yes</td>\n",
              "      <td>7</td>\n",
              "      <td>51</td>\n",
              "      <td>Male</td>\n",
              "      <td>Head of Household</td>\n",
              "      <td>Married/Living together</td>\n",
              "      <td>Vocational/Specialised training</td>\n",
              "      <td>Formally employed Private</td>\n",
              "    </tr>\n",
              "    <tr>\n",
              "      <th>2</th>\n",
              "      <td>Kenya</td>\n",
              "      <td>2018</td>\n",
              "      <td>uniqueid_6065</td>\n",
              "      <td>Rural</td>\n",
              "      <td>No</td>\n",
              "      <td>3</td>\n",
              "      <td>77</td>\n",
              "      <td>Female</td>\n",
              "      <td>Parent</td>\n",
              "      <td>Married/Living together</td>\n",
              "      <td>No formal education</td>\n",
              "      <td>Remittance Dependent</td>\n",
              "    </tr>\n",
              "    <tr>\n",
              "      <th>3</th>\n",
              "      <td>Kenya</td>\n",
              "      <td>2018</td>\n",
              "      <td>uniqueid_6072</td>\n",
              "      <td>Rural</td>\n",
              "      <td>No</td>\n",
              "      <td>6</td>\n",
              "      <td>39</td>\n",
              "      <td>Female</td>\n",
              "      <td>Head of Household</td>\n",
              "      <td>Married/Living together</td>\n",
              "      <td>Primary education</td>\n",
              "      <td>Remittance Dependent</td>\n",
              "    </tr>\n",
              "    <tr>\n",
              "      <th>4</th>\n",
              "      <td>Kenya</td>\n",
              "      <td>2018</td>\n",
              "      <td>uniqueid_6073</td>\n",
              "      <td>Urban</td>\n",
              "      <td>No</td>\n",
              "      <td>3</td>\n",
              "      <td>16</td>\n",
              "      <td>Male</td>\n",
              "      <td>Child</td>\n",
              "      <td>Single/Never Married</td>\n",
              "      <td>Secondary education</td>\n",
              "      <td>Remittance Dependent</td>\n",
              "    </tr>\n",
              "  </tbody>\n",
              "</table>\n",
              "</div>\n",
              "      <button class=\"colab-df-convert\" onclick=\"convertToInteractive('df-981e9996-46f9-4b8f-b412-a262d491ae54')\"\n",
              "              title=\"Convert this dataframe to an interactive table.\"\n",
              "              style=\"display:none;\">\n",
              "        \n",
              "  <svg xmlns=\"http://www.w3.org/2000/svg\" height=\"24px\"viewBox=\"0 0 24 24\"\n",
              "       width=\"24px\">\n",
              "    <path d=\"M0 0h24v24H0V0z\" fill=\"none\"/>\n",
              "    <path d=\"M18.56 5.44l.94 2.06.94-2.06 2.06-.94-2.06-.94-.94-2.06-.94 2.06-2.06.94zm-11 1L8.5 8.5l.94-2.06 2.06-.94-2.06-.94L8.5 2.5l-.94 2.06-2.06.94zm10 10l.94 2.06.94-2.06 2.06-.94-2.06-.94-.94-2.06-.94 2.06-2.06.94z\"/><path d=\"M17.41 7.96l-1.37-1.37c-.4-.4-.92-.59-1.43-.59-.52 0-1.04.2-1.43.59L10.3 9.45l-7.72 7.72c-.78.78-.78 2.05 0 2.83L4 21.41c.39.39.9.59 1.41.59.51 0 1.02-.2 1.41-.59l7.78-7.78 2.81-2.81c.8-.78.8-2.07 0-2.86zM5.41 20L4 18.59l7.72-7.72 1.47 1.35L5.41 20z\"/>\n",
              "  </svg>\n",
              "      </button>\n",
              "      \n",
              "  <style>\n",
              "    .colab-df-container {\n",
              "      display:flex;\n",
              "      flex-wrap:wrap;\n",
              "      gap: 12px;\n",
              "    }\n",
              "\n",
              "    .colab-df-convert {\n",
              "      background-color: #E8F0FE;\n",
              "      border: none;\n",
              "      border-radius: 50%;\n",
              "      cursor: pointer;\n",
              "      display: none;\n",
              "      fill: #1967D2;\n",
              "      height: 32px;\n",
              "      padding: 0 0 0 0;\n",
              "      width: 32px;\n",
              "    }\n",
              "\n",
              "    .colab-df-convert:hover {\n",
              "      background-color: #E2EBFA;\n",
              "      box-shadow: 0px 1px 2px rgba(60, 64, 67, 0.3), 0px 1px 3px 1px rgba(60, 64, 67, 0.15);\n",
              "      fill: #174EA6;\n",
              "    }\n",
              "\n",
              "    [theme=dark] .colab-df-convert {\n",
              "      background-color: #3B4455;\n",
              "      fill: #D2E3FC;\n",
              "    }\n",
              "\n",
              "    [theme=dark] .colab-df-convert:hover {\n",
              "      background-color: #434B5C;\n",
              "      box-shadow: 0px 1px 3px 1px rgba(0, 0, 0, 0.15);\n",
              "      filter: drop-shadow(0px 1px 2px rgba(0, 0, 0, 0.3));\n",
              "      fill: #FFFFFF;\n",
              "    }\n",
              "  </style>\n",
              "\n",
              "      <script>\n",
              "        const buttonEl =\n",
              "          document.querySelector('#df-981e9996-46f9-4b8f-b412-a262d491ae54 button.colab-df-convert');\n",
              "        buttonEl.style.display =\n",
              "          google.colab.kernel.accessAllowed ? 'block' : 'none';\n",
              "\n",
              "        async function convertToInteractive(key) {\n",
              "          const element = document.querySelector('#df-981e9996-46f9-4b8f-b412-a262d491ae54');\n",
              "          const dataTable =\n",
              "            await google.colab.kernel.invokeFunction('convertToInteractive',\n",
              "                                                     [key], {});\n",
              "          if (!dataTable) return;\n",
              "\n",
              "          const docLinkHtml = 'Like what you see? Visit the ' +\n",
              "            '<a target=\"_blank\" href=https://colab.research.google.com/notebooks/data_table.ipynb>data table notebook</a>'\n",
              "            + ' to learn more about interactive tables.';\n",
              "          element.innerHTML = '';\n",
              "          dataTable['output_type'] = 'display_data';\n",
              "          await google.colab.output.renderOutput(dataTable, element);\n",
              "          const docLink = document.createElement('div');\n",
              "          docLink.innerHTML = docLinkHtml;\n",
              "          element.appendChild(docLink);\n",
              "        }\n",
              "      </script>\n",
              "    </div>\n",
              "  </div>\n",
              "  "
            ]
          },
          "metadata": {},
          "execution_count": 50
        }
      ]
    },
    {
      "cell_type": "code",
      "source": [
        "variables"
      ],
      "metadata": {
        "colab": {
          "base_uri": "https://localhost:8080/",
          "height": 426
        },
        "id": "a572n9BbDfvb",
        "outputId": "cbf6207b-fac8-4706-d74f-3b8508dbd0d8"
      },
      "execution_count": null,
      "outputs": [
        {
          "output_type": "execute_result",
          "data": {
            "text/plain": [
              "      Variable Definitions                                         Unnamed: 1\n",
              "0                  country                         Country interviewee is in.\n",
              "1                     year                           Year survey was done in.\n",
              "2                 uniqueid             Unique identifier for each interviewee\n",
              "3            location_type                     Type of location: Rural, Urban\n",
              "4         cellphone_access  If interviewee has access to a cellphone: Yes, No\n",
              "5           household_size               Number of people living in one house\n",
              "6        age_of_respondent                         The age of the interviewee\n",
              "7     gender_of_respondent                Gender of interviewee: Male, Female\n",
              "8   relationship_with_head  The interviewee’s relationship with the head o...\n",
              "9           marital_status  The martial status of the interviewee: Married...\n",
              "10         education_level  Highest level of education: No formal educatio...\n",
              "11                job_type  Type of job interviewee has: Farming and Fishi..."
            ],
            "text/html": [
              "\n",
              "  <div id=\"df-ef62fe66-3c2c-409b-bc17-a4951236ea63\">\n",
              "    <div class=\"colab-df-container\">\n",
              "      <div>\n",
              "<style scoped>\n",
              "    .dataframe tbody tr th:only-of-type {\n",
              "        vertical-align: middle;\n",
              "    }\n",
              "\n",
              "    .dataframe tbody tr th {\n",
              "        vertical-align: top;\n",
              "    }\n",
              "\n",
              "    .dataframe thead th {\n",
              "        text-align: right;\n",
              "    }\n",
              "</style>\n",
              "<table border=\"1\" class=\"dataframe\">\n",
              "  <thead>\n",
              "    <tr style=\"text-align: right;\">\n",
              "      <th></th>\n",
              "      <th>Variable Definitions</th>\n",
              "      <th>Unnamed: 1</th>\n",
              "    </tr>\n",
              "  </thead>\n",
              "  <tbody>\n",
              "    <tr>\n",
              "      <th>0</th>\n",
              "      <td>country</td>\n",
              "      <td>Country interviewee is in.</td>\n",
              "    </tr>\n",
              "    <tr>\n",
              "      <th>1</th>\n",
              "      <td>year</td>\n",
              "      <td>Year survey was done in.</td>\n",
              "    </tr>\n",
              "    <tr>\n",
              "      <th>2</th>\n",
              "      <td>uniqueid</td>\n",
              "      <td>Unique identifier for each interviewee</td>\n",
              "    </tr>\n",
              "    <tr>\n",
              "      <th>3</th>\n",
              "      <td>location_type</td>\n",
              "      <td>Type of location: Rural, Urban</td>\n",
              "    </tr>\n",
              "    <tr>\n",
              "      <th>4</th>\n",
              "      <td>cellphone_access</td>\n",
              "      <td>If interviewee has access to a cellphone: Yes, No</td>\n",
              "    </tr>\n",
              "    <tr>\n",
              "      <th>5</th>\n",
              "      <td>household_size</td>\n",
              "      <td>Number of people living in one house</td>\n",
              "    </tr>\n",
              "    <tr>\n",
              "      <th>6</th>\n",
              "      <td>age_of_respondent</td>\n",
              "      <td>The age of the interviewee</td>\n",
              "    </tr>\n",
              "    <tr>\n",
              "      <th>7</th>\n",
              "      <td>gender_of_respondent</td>\n",
              "      <td>Gender of interviewee: Male, Female</td>\n",
              "    </tr>\n",
              "    <tr>\n",
              "      <th>8</th>\n",
              "      <td>relationship_with_head</td>\n",
              "      <td>The interviewee’s relationship with the head o...</td>\n",
              "    </tr>\n",
              "    <tr>\n",
              "      <th>9</th>\n",
              "      <td>marital_status</td>\n",
              "      <td>The martial status of the interviewee: Married...</td>\n",
              "    </tr>\n",
              "    <tr>\n",
              "      <th>10</th>\n",
              "      <td>education_level</td>\n",
              "      <td>Highest level of education: No formal educatio...</td>\n",
              "    </tr>\n",
              "    <tr>\n",
              "      <th>11</th>\n",
              "      <td>job_type</td>\n",
              "      <td>Type of job interviewee has: Farming and Fishi...</td>\n",
              "    </tr>\n",
              "  </tbody>\n",
              "</table>\n",
              "</div>\n",
              "      <button class=\"colab-df-convert\" onclick=\"convertToInteractive('df-ef62fe66-3c2c-409b-bc17-a4951236ea63')\"\n",
              "              title=\"Convert this dataframe to an interactive table.\"\n",
              "              style=\"display:none;\">\n",
              "        \n",
              "  <svg xmlns=\"http://www.w3.org/2000/svg\" height=\"24px\"viewBox=\"0 0 24 24\"\n",
              "       width=\"24px\">\n",
              "    <path d=\"M0 0h24v24H0V0z\" fill=\"none\"/>\n",
              "    <path d=\"M18.56 5.44l.94 2.06.94-2.06 2.06-.94-2.06-.94-.94-2.06-.94 2.06-2.06.94zm-11 1L8.5 8.5l.94-2.06 2.06-.94-2.06-.94L8.5 2.5l-.94 2.06-2.06.94zm10 10l.94 2.06.94-2.06 2.06-.94-2.06-.94-.94-2.06-.94 2.06-2.06.94z\"/><path d=\"M17.41 7.96l-1.37-1.37c-.4-.4-.92-.59-1.43-.59-.52 0-1.04.2-1.43.59L10.3 9.45l-7.72 7.72c-.78.78-.78 2.05 0 2.83L4 21.41c.39.39.9.59 1.41.59.51 0 1.02-.2 1.41-.59l7.78-7.78 2.81-2.81c.8-.78.8-2.07 0-2.86zM5.41 20L4 18.59l7.72-7.72 1.47 1.35L5.41 20z\"/>\n",
              "  </svg>\n",
              "      </button>\n",
              "      \n",
              "  <style>\n",
              "    .colab-df-container {\n",
              "      display:flex;\n",
              "      flex-wrap:wrap;\n",
              "      gap: 12px;\n",
              "    }\n",
              "\n",
              "    .colab-df-convert {\n",
              "      background-color: #E8F0FE;\n",
              "      border: none;\n",
              "      border-radius: 50%;\n",
              "      cursor: pointer;\n",
              "      display: none;\n",
              "      fill: #1967D2;\n",
              "      height: 32px;\n",
              "      padding: 0 0 0 0;\n",
              "      width: 32px;\n",
              "    }\n",
              "\n",
              "    .colab-df-convert:hover {\n",
              "      background-color: #E2EBFA;\n",
              "      box-shadow: 0px 1px 2px rgba(60, 64, 67, 0.3), 0px 1px 3px 1px rgba(60, 64, 67, 0.15);\n",
              "      fill: #174EA6;\n",
              "    }\n",
              "\n",
              "    [theme=dark] .colab-df-convert {\n",
              "      background-color: #3B4455;\n",
              "      fill: #D2E3FC;\n",
              "    }\n",
              "\n",
              "    [theme=dark] .colab-df-convert:hover {\n",
              "      background-color: #434B5C;\n",
              "      box-shadow: 0px 1px 3px 1px rgba(0, 0, 0, 0.15);\n",
              "      filter: drop-shadow(0px 1px 2px rgba(0, 0, 0, 0.3));\n",
              "      fill: #FFFFFF;\n",
              "    }\n",
              "  </style>\n",
              "\n",
              "      <script>\n",
              "        const buttonEl =\n",
              "          document.querySelector('#df-ef62fe66-3c2c-409b-bc17-a4951236ea63 button.colab-df-convert');\n",
              "        buttonEl.style.display =\n",
              "          google.colab.kernel.accessAllowed ? 'block' : 'none';\n",
              "\n",
              "        async function convertToInteractive(key) {\n",
              "          const element = document.querySelector('#df-ef62fe66-3c2c-409b-bc17-a4951236ea63');\n",
              "          const dataTable =\n",
              "            await google.colab.kernel.invokeFunction('convertToInteractive',\n",
              "                                                     [key], {});\n",
              "          if (!dataTable) return;\n",
              "\n",
              "          const docLinkHtml = 'Like what you see? Visit the ' +\n",
              "            '<a target=\"_blank\" href=https://colab.research.google.com/notebooks/data_table.ipynb>data table notebook</a>'\n",
              "            + ' to learn more about interactive tables.';\n",
              "          element.innerHTML = '';\n",
              "          dataTable['output_type'] = 'display_data';\n",
              "          await google.colab.output.renderOutput(dataTable, element);\n",
              "          const docLink = document.createElement('div');\n",
              "          docLink.innerHTML = docLinkHtml;\n",
              "          element.appendChild(docLink);\n",
              "        }\n",
              "      </script>\n",
              "    </div>\n",
              "  </div>\n",
              "  "
            ]
          },
          "metadata": {},
          "execution_count": 51
        }
      ]
    },
    {
      "cell_type": "markdown",
      "source": [
        "#### Using the Dirty Dataset for Data Cleaning\n",
        "\n",
        "Data cleaning steps:\n",
        "\n",
        "\n",
        "1.   Checking for null values\n",
        "2.   Checking number of unique values\n",
        "3.   Checking for outliers\n",
        "\n",
        "Creating a function to clean the data\n",
        "\n"
      ],
      "metadata": {
        "id": "rr3zh0dulwkG"
      }
    },
    {
      "cell_type": "code",
      "source": [
        "def is_dataset_clean(dataset):\n",
        "    \"\"\"\n",
        "    Checks if a dataset is clean by looking for null values and outliers.\n",
        "\n",
        "    Args:\n",
        "        dataset: A Pandas DataFrame object representing the dataset.\n",
        "\n",
        "    Returns:\n",
        "        A boolean value indicating whether the dataset is clean or not.\n",
        "    \"\"\"\n",
        "\n",
        "    # Check for missing values\n",
        "    if dataset.isnull().sum().sum() > 0:\n",
        "        return False\n",
        "\n",
        "    # Check for outliers\n",
        "    q1 = dataset.quantile(0.25)\n",
        "    q3 = dataset.quantile(0.75)\n",
        "    iqr = q3 - q1\n",
        "    outliers = ((dataset < (q1 - 1.5 * iqr)) | (dataset > (q3 + 1.5 * iqr))).sum().sum()\n",
        "    if outliers > 0:\n",
        "        return False\n",
        "\n",
        "    # If all checks pass, return True\n",
        "    return True\n",
        "# This function first checks for null values in the dataset by calling the isnull() and sum()\n",
        "# methods of the DataFrame object, and returns False if any null values are found.\n",
        "\n",
        "# Then, the function checks for outliers by calculating the interquartile range (IQR) of\n",
        "# each column using the quantile() method, and then identifying any values outside of 1.5\n",
        "# times the IQR using boolean indexing. The total number of outliers is then calculated using the sum() method,\n",
        "# and the function returns False if any outliers are found.\n",
        "\n",
        "# If no null values or outliers are found, the function returns True, indicating that the dataset is clean.\n",
        "\n",
        "\n",
        "is_dataset_clean(dirty)\n",
        "\n"
      ],
      "metadata": {
        "colab": {
          "base_uri": "https://localhost:8080/"
        },
        "id": "hgyBZd8p-bTB",
        "outputId": "22cc1389-6872-4c13-8965-66ff2fcbe1ea"
      },
      "execution_count": null,
      "outputs": [
        {
          "output_type": "execute_result",
          "data": {
            "text/plain": [
              "False"
            ]
          },
          "metadata": {},
          "execution_count": 52
        }
      ]
    },
    {
      "cell_type": "code",
      "source": [
        "# Checking for null values\n",
        "dirty.isnull().sum()"
      ],
      "metadata": {
        "colab": {
          "base_uri": "https://localhost:8080/"
        },
        "id": "8oA0-EP5mIDG",
        "outputId": "aa5f812b-cc13-43cb-a0e6-8b9500cc5b70"
      },
      "execution_count": null,
      "outputs": [
        {
          "output_type": "execute_result",
          "data": {
            "text/plain": [
              "country                   2\n",
              "year                      0\n",
              "uniqueid                  1\n",
              "bank_account              1\n",
              "location_type             1\n",
              "cellphone_access          0\n",
              "household_size            2\n",
              "age_of_respondent         1\n",
              "gender_of_respondent      5\n",
              "relationship_with_head    2\n",
              "marital_status            3\n",
              "education_level           2\n",
              "job_type                  6\n",
              "dtype: int64"
            ]
          },
          "metadata": {},
          "execution_count": 53
        }
      ]
    },
    {
      "cell_type": "markdown",
      "source": [
        "Checks for data cleanliness shows there are several null values in the following columns:\n",
        "\n",
        "\n",
        "1.   country                   2\n",
        "2.   uniqueid                  1\n",
        "3.   bank_account              1\n",
        "4.   location_type             1\n",
        "5.   household_size            2\n",
        "6.   age_of_respondent         1\n",
        "7.   gender_of_respondent      5\n",
        "8.   relationship_with_head    2\n",
        "9.   marital_status            3\n",
        "10.  education_level           2\n",
        "11.  job_type                  6        \n",
        "\n",
        "Since the number of null values per column is not high and therefore not likely to affect the analysis, we shall drop all null values\n"
      ],
      "metadata": {
        "id": "v-RNoyqOoT3W"
      }
    },
    {
      "cell_type": "code",
      "source": [
        "# Deleting the null values using dropna()\n",
        "dirty = dirty.dropna()"
      ],
      "metadata": {
        "id": "1ya8WP0p0VWm"
      },
      "execution_count": null,
      "outputs": []
    },
    {
      "cell_type": "code",
      "source": [
        "dirty.nunique()"
      ],
      "metadata": {
        "colab": {
          "base_uri": "https://localhost:8080/"
        },
        "id": "gJYm7FYlmQCg",
        "outputId": "245eadab-a42d-4048-f589-107394f116cf"
      },
      "execution_count": null,
      "outputs": [
        {
          "output_type": "execute_result",
          "data": {
            "text/plain": [
              "country                      4\n",
              "year                         3\n",
              "uniqueid                  8735\n",
              "bank_account                 2\n",
              "location_type                2\n",
              "cellphone_access             2\n",
              "household_size              20\n",
              "age_of_respondent           94\n",
              "gender_of_respondent         2\n",
              "relationship_with_head       6\n",
              "marital_status               5\n",
              "education_level              6\n",
              "job_type                    10\n",
              "dtype: int64"
            ]
          },
          "metadata": {},
          "execution_count": 55
        }
      ]
    },
    {
      "cell_type": "code",
      "source": [
        "# Checking for Outliers in the Household size and age of respondent columns\n",
        "\n",
        "sns.boxplot(dirty['household_size'])\n",
        "\n"
      ],
      "metadata": {
        "colab": {
          "base_uri": "https://localhost:8080/",
          "height": 297
        },
        "id": "T61BQ3sumgdm",
        "outputId": "75bcfc94-dab9-49e8-940a-8eee870a5b3a"
      },
      "execution_count": null,
      "outputs": [
        {
          "output_type": "execute_result",
          "data": {
            "text/plain": [
              "<matplotlib.axes._subplots.AxesSubplot at 0x7faaa3b1bb50>"
            ]
          },
          "metadata": {},
          "execution_count": 56
        },
        {
          "output_type": "display_data",
          "data": {
            "text/plain": [
              "<Figure size 432x288 with 1 Axes>"
            ],
            "image/png": "[encoded data removed]"
          },
          "metadata": {
            "needs_background": "light"
          }
        }
      ]
    },
    {
      "cell_type": "code",
      "source": [
        "sns.boxplot(dirty['age_of_respondent'])"
      ],
      "metadata": {
        "colab": {
          "base_uri": "https://localhost:8080/",
          "height": 297
        },
        "id": "zMeMzQ1Nm9nN",
        "outputId": "267f2b63-78d7-4169-ba6a-c81158cf408f"
      },
      "execution_count": null,
      "outputs": [
        {
          "output_type": "execute_result",
          "data": {
            "text/plain": [
              "<matplotlib.axes._subplots.AxesSubplot at 0x7faaa47b4dc0>"
            ]
          },
          "metadata": {},
          "execution_count": 57
        },
        {
          "output_type": "display_data",
          "data": {
            "text/plain": [
              "<Figure size 432x288 with 1 Axes>"
            ],
            "image/png": "[encoded data removed]"
          },
          "metadata": {
            "needs_background": "light"
          }
        }
      ]
    },
    {
      "cell_type": "code",
      "source": [],
      "metadata": {
        "id": "NE_vL9EBpBOO"
      },
      "execution_count": null,
      "outputs": []
    },
    {
      "cell_type": "markdown",
      "source": [
        "Using boxplots to detect outliers shows outliers in the age_of_respondent column and household_size columns. Business understanding of the data allows us to conclude the oultliers in the household_size are acceptable as they fall within a range that is realistic in the region of study. However, the outliers in the age_of_respondent column are beyond the reasonable age for human being, we shall check for all those that are above 100 years and determine what to do with the outliers"
      ],
      "metadata": {
        "id": "KCWvDMEEnI2b"
      }
    },
    {
      "cell_type": "code",
      "source": [
        "print(np.where(dirty['age_of_respondent']>100))"
      ],
      "metadata": {
        "colab": {
          "base_uri": "https://localhost:8080/"
        },
        "id": "D9Gs7dejnd-W",
        "outputId": "bc504115-21ae-449d-8a8d-4342d8d93d16"
      },
      "execution_count": null,
      "outputs": [
        {
          "output_type": "stream",
          "name": "stdout",
          "text": [
            "(array([  229,   256,   279,   427, 22926, 22962, 22997, 23107]),)\n"
          ]
        }
      ]
    },
    {
      "cell_type": "code",
      "source": [
        "# Replacing the outliers in the age_of_respondent column with the median value for the column\n",
        "\n",
        "dirty[\"age_of_respondent\"] = np.where(dirty[\"age_of_respondent\"] >100, mean,dirty['age_of_respondent'])\n"
      ],
      "metadata": {
        "id": "v3fN-G610mm7"
      },
      "execution_count": null,
      "outputs": []
    },
    {
      "cell_type": "code",
      "source": [
        "# Checking if our data is now clean\n",
        "\n",
        "is_dataset_clean(dirty)\n",
        "\n",
        "# Dataset can not be clean based on the parameters provided since age has outliers"
      ],
      "metadata": {
        "colab": {
          "base_uri": "https://localhost:8080/"
        },
        "id": "TpbHgJ9C_fBI",
        "outputId": "2552390d-d8e3-4b39-a021-17c5b7505d61"
      },
      "execution_count": null,
      "outputs": [
        {
          "output_type": "execute_result",
          "data": {
            "text/plain": [
              "False"
            ]
          },
          "metadata": {},
          "execution_count": 60
        }
      ]
    },
    {
      "cell_type": "markdown",
      "source": [
        "## External Data Source Validation\n",
        "\n",
        "Making sure your data matches something outside of the dataset is very important. It allows you to ensure that the measurements are roughly in line with what they should be and it serves as a check on what other things might be wrong in your dataset. External validation can often be as simple as checking your data against a single number, as we will do here.\n",
        "\n",
        "An example would be suppose that you're working with a dataset on the population of countries during the year 2016. Validating such information with an external reliable resource such as World Bank Data would be important step to providing credibility to your dataset. Have a look at the following link for an example. [Link](https://rstudio-pubs-static.s3.amazonaws.com/182250_19977d0c5c06403fbad1e653850fc7c6.html)."
      ],
      "metadata": {
        "id": "A8V_-KrmD-Tt"
      }
    },
    {
      "cell_type": "markdown",
      "source": [
        "## Tidying the Dataset\n",
        "\n",
        "> Back to using the train dataset, doing data preparation for use in the analysis\n",
        "\n"
      ],
      "metadata": {
        "id": "eurzhjf2FIjj"
      }
    },
    {
      "cell_type": "code",
      "source": [
        "# Checking whether each column has an appropriate datatype\n",
        "train.info()"
      ],
      "metadata": {
        "colab": {
          "base_uri": "https://localhost:8080/"
        },
        "id": "yRg8THgmGEXk",
        "outputId": "0761aeef-b9a5-410b-af19-60a4c39be148"
      },
      "execution_count": null,
      "outputs": [
        {
          "output_type": "stream",
          "name": "stdout",
          "text": [
            "<class 'pandas.core.frame.DataFrame'>\n",
            "RangeIndex: 23524 entries, 0 to 23523\n",
            "Data columns (total 13 columns):\n",
            " #   Column                  Non-Null Count  Dtype \n",
            "---  ------                  --------------  ----- \n",
            " 0   country                 23524 non-null  object\n",
            " 1   year                    23524 non-null  int64 \n",
            " 2   uniqueid                23524 non-null  object\n",
            " 3   bank_account            23524 non-null  object\n",
            " 4   location_type           23524 non-null  object\n",
            " 5   cellphone_access        23524 non-null  object\n",
            " 6   household_size          23524 non-null  int64 \n",
            " 7   age_of_respondent       23524 non-null  int64 \n",
            " 8   gender_of_respondent    23524 non-null  object\n",
            " 9   relationship_with_head  23524 non-null  object\n",
            " 10  marital_status          23524 non-null  object\n",
            " 11  education_level         23524 non-null  object\n",
            " 12  job_type                23524 non-null  object\n",
            "dtypes: int64(3), object(10)\n",
            "memory usage: 2.3+ MB\n"
          ]
        }
      ]
    },
    {
      "cell_type": "markdown",
      "source": [
        "Exploratory Data Analysis(EDA)\n",
        "\n",
        "### Univariate Analysis"
      ],
      "metadata": {
        "id": "xgiyL5OQcLeF"
      }
    },
    {
      "cell_type": "code",
      "source": [
        "# Pie chart the percentage number of surveyed population per country\n",
        "# Visualizing the frequency table in a piechart\n",
        "\n",
        "fig = plt.figure(figsize=(20,8))\n",
        "\n",
        "colors = ['red', 'orange', 'pink', 'maroon']\n",
        "train['country'].value_counts().plot.pie(colors=colors, autopct='%1.1f%%', shadow=True)\n",
        "plt.title('population per country')"
      ],
      "metadata": {
        "colab": {
          "base_uri": "https://localhost:8080/",
          "height": 499
        },
        "id": "Kggkl-TCckP9",
        "outputId": "5d5ec1c2-8b94-4019-b184-4c3c4f40fc00"
      },
      "execution_count": null,
      "outputs": [
        {
          "output_type": "execute_result",
          "data": {
            "text/plain": [
              "Text(0.5, 1.0, 'population per country')"
            ]
          },
          "metadata": {},
          "execution_count": 62
        },
        {
          "output_type": "display_data",
          "data": {
            "text/plain": [
              "<Figure size 1440x576 with 1 Axes>"
            ],
            "image/png": "[encoded data removed]"
          },
          "metadata": {}
        }
      ]
    },
    {
      "cell_type": "markdown",
      "source": [
        "Observations\n",
        "**bold text**\n",
        "The output shows that the Rwanda had the highest number of individuals interviewed while Uganda had the lowest number."
      ],
      "metadata": {
        "id": "ok7hmhxTfcI0"
      }
    },
    {
      "cell_type": "code",
      "source": [
        "\n",
        "# Bar chart for 'marital status' variable\n",
        "\n",
        "train['marital_status'].value_counts().plot.bar(rot =0,figsize=(10,5))\n",
        "plt.xlabel(\"Marital status\")\n",
        "plt.ylabel(\"Count\")\n",
        "plt.title(\"Marital Status of the Respondent \")\n",
        "plt.xticks(rotation = 45)\n",
        "plt.show()"
      ],
      "metadata": {
        "colab": {
          "base_uri": "https://localhost:8080/",
          "height": 430
        },
        "id": "mXW2WcJzfjC9",
        "outputId": "95647d75-27ab-4adb-de8b-39cd0b718f19"
      },
      "execution_count": null,
      "outputs": [
        {
          "output_type": "display_data",
          "data": {
            "text/plain": [
              "<Figure size 720x360 with 1 Axes>"
            ],
            "image/png": "[encoded data removed]"
          },
          "metadata": {
            "needs_background": "light"
          }
        }
      ]
    },
    {
      "cell_type": "markdown",
      "source": [
        "**Observation**\n",
        "\n",
        "The number of married people living together is higher than the seperated"
      ],
      "metadata": {
        "id": "lVGTdxCSf_WB"
      }
    },
    {
      "cell_type": "code",
      "source": [
        "# Next, we can plot a histogram to show the distribution of\n",
        "# age and household size in the dataset\n",
        "fig,ax=plt.subplots(1,2,figsize=(20,10))\n",
        "train['age_of_respondent'].plot.hist(ax=ax[0],bins=10,edgecolor='black',color='yellow')\n",
        "ax[0].set_title('Age Distribution')\n",
        "ax[0].set_xlabel('Age of Respondent')\n",
        "x1=list(range(0,85,5))\n",
        "ax[0].set_xticks(x1)\n",
        "train['household_size'].plot.hist(ax=ax[1],color='red',bins=10,edgecolor='black')\n",
        "ax[1].set_title('Distribution of Household Size')\n",
        "ax[1].set_xlabel('Household size')\n",
        "x2=list(range(0,20,2))\n",
        "ax[1].set_xticks(x2)\n",
        "plt.show()"
      ],
      "metadata": {
        "colab": {
          "base_uri": "https://localhost:8080/",
          "height": 621
        },
        "id": "CIAPjG_HgF15",
        "outputId": "e54c09f9-9283-45c0-c744-ad2e237b0da0"
      },
      "execution_count": null,
      "outputs": [
        {
          "output_type": "display_data",
          "data": {
            "text/plain": [
              "<Figure size 1440x720 with 2 Axes>"
            ],
            "image/png": "[encoded data removed]"
          },
          "metadata": {
            "needs_background": "light"
          }
        }
      ]
    },
    {
      "cell_type": "code",
      "source": [
        "\n",
        "# Bar chart for 'relationship_with_head' variable\n",
        "\n",
        "train['relationship_with_head'].value_counts().plot.bar(figsize=(10,5))\n",
        "plt.xlabel(\"Relation to the household\")\n",
        "plt.ylabel(\"Count\")\n",
        "plt.title(\"Respondent relationship to the Household head \")\n",
        "plt.xticks(rotation = 60)\n",
        "plt.show()"
      ],
      "metadata": {
        "colab": {
          "base_uri": "https://localhost:8080/",
          "height": 428
        },
        "id": "t76eWGt4giWv",
        "outputId": "44f19e4b-923b-4e35-d214-3ce5a3ab8881"
      },
      "execution_count": null,
      "outputs": [
        {
          "output_type": "display_data",
          "data": {
            "text/plain": [
              "<Figure size 720x360 with 1 Axes>"
            ],
            "image/png": "[encoded data removed]"
          },
          "metadata": {
            "needs_background": "light"
          }
        }
      ]
    },
    {
      "cell_type": "code",
      "source": [
        "fig,ax=plt.subplots(1,2,figsize=(20,10))\n",
        "train['cellphone_access'].value_counts().plot.bar(ax=ax[0])\n",
        "ax[0].set_title('Respondents with cell phone')\n",
        "ax[0].set_xlabel('Age of Respondent')\n",
        "train['bank_account'].value_counts().plot.bar(ax=ax[1], color='yellow')\n",
        "ax[1].set_title('Respondents with bank account')\n",
        "ax[1].set_xlabel('Access to Bank account')\n",
        "plt.xticks(rotation = 60)\n",
        "plt.show()"
      ],
      "metadata": {
        "colab": {
          "base_uri": "https://localhost:8080/",
          "height": 630
        },
        "id": "N1P7u3Tjgpfi",
        "outputId": "6161ee97-266d-4984-b968-ad0521d3030c"
      },
      "execution_count": null,
      "outputs": [
        {
          "output_type": "display_data",
          "data": {
            "text/plain": [
              "<Figure size 1440x720 with 2 Axes>"
            ],
            "image/png": "[encoded data removed]"
          },
          "metadata": {
            "needs_background": "light"
          }
        }
      ]
    },
    {
      "cell_type": "markdown",
      "source": [
        "**Observation**\n",
        "\n",
        "The number of respodents with phones is higher than those without"
      ],
      "metadata": {
        "id": "UpgtuLGYhz4w"
      }
    },
    {
      "cell_type": "code",
      "source": [
        "# Bar chart for 'occupation' variable\n",
        "\n",
        "train['job_type'].value_counts().plot.bar(rot =0,figsize=(10,5))\n",
        "plt.xlabel(\"Occupation\")\n",
        "plt.ylabel(\"Count\")\n",
        "plt.title(\"Occupation of Respondents\")\n",
        "plt.xticks(rotation = 60)\n",
        "plt.show()"
      ],
      "metadata": {
        "colab": {
          "base_uri": "https://localhost:8080/",
          "height": 484
        },
        "id": "uZ64Tw74h6bO",
        "outputId": "e5218880-23a3-4f8c-cd77-ae85cb82440c"
      },
      "execution_count": null,
      "outputs": [
        {
          "output_type": "display_data",
          "data": {
            "text/plain": [
              "<Figure size 720x360 with 1 Axes>"
            ],
            "image/png": "[encoded data removed]"
          },
          "metadata": {
            "needs_background": "light"
          }
        }
      ]
    },
    {
      "cell_type": "markdown",
      "source": [
        "**Observation**\n",
        "\n",
        "\n",
        "*  Most people are self employed\n",
        "\n"
      ],
      "metadata": {
        "id": "8xEHELcLiHK1"
      }
    },
    {
      "cell_type": "markdown",
      "source": [
        "**Bivariate Analysis**"
      ],
      "metadata": {
        "id": "rzOsSIX5iRbA"
      }
    },
    {
      "cell_type": "code",
      "source": [
        "# We will now plot the bivariate summaries of our numerical data and record our observations per country\n",
        "#\n",
        "sns.pairplot(train, hue='country')\n",
        "plt.show()\n",
        ""
      ],
      "metadata": {
        "colab": {
          "base_uri": "https://localhost:8080/",
          "height": 550
        },
        "id": "RoVlHLrNjk_u",
        "outputId": "7302c8b7-4672-434d-cec5-b358bb7201db"
      },
      "execution_count": null,
      "outputs": [
        {
          "output_type": "display_data",
          "data": {
            "text/plain": [
              "<Figure size 619.5x540 with 12 Axes>"
            ],
            "image/png": "[encoded data removed]"
          },
          "metadata": {
            "needs_background": "light"
          }
        }
      ]
    },
    {
      "cell_type": "code",
      "source": [
        "# Plotting the Pearson correlation coefficient among the numeric variables in our dataset\n",
        "\n",
        "fig = plt.figure(figsize=(15, 8))\n",
        "sns.heatmap(train.corr(),annot=True)\n",
        "plt.show()"
      ],
      "metadata": {
        "colab": {
          "base_uri": "https://localhost:8080/",
          "height": 488
        },
        "id": "w2Tldsjgjy0C",
        "outputId": "900dc3f2-4a8b-401b-88eb-02ea9d29c0a5"
      },
      "execution_count": null,
      "outputs": [
        {
          "output_type": "display_data",
          "data": {
            "text/plain": [
              "<Figure size 1080x576 with 2 Axes>"
            ],
            "image/png": "[encoded data removed]"
          },
          "metadata": {
            "needs_background": "light"
          }
        }
      ]
    },
    {
      "cell_type": "markdown",
      "source": [
        "**Observations**\n",
        "\n",
        "The three variables are not strongly correlated since all the correlation coefficeints are close to 0."
      ],
      "metadata": {
        "id": "PDODXWrkj_9F"
      }
    },
    {
      "cell_type": "markdown",
      "source": [
        "Comparing the various categorical variables with each other"
      ],
      "metadata": {
        "id": "hH06SvUHkEIc"
      }
    },
    {
      "cell_type": "code",
      "source": [
        "#Relationship between gender, location and access to bank account\n",
        "\n",
        "pd.crosstab([train.bank_account, train.gender_of_respondent]\n",
        "            ,train.location_type, margins=True).style.background_gradient(cmap='Pastel1_r')\n"
      ],
      "metadata": {
        "colab": {
          "base_uri": "https://localhost:8080/",
          "height": 238
        },
        "id": "wDMqy3RlkZNE",
        "outputId": "83cefd84-ebb4-45d7-978c-a8713908ba17"
      },
      "execution_count": null,
      "outputs": [
        {
          "output_type": "execute_result",
          "data": {
            "text/plain": [
              "<pandas.io.formats.style.Styler at 0x7faaa4079f10>"
            ],
            "text/html": [
              "<style type=\"text/css\">\n",
              "#T_26ee4_row0_col0, #T_26ee4_row0_col1, #T_26ee4_row0_col2 {\n",
              "  background-color: #fed9a6;\n",
              "  color: #000000;\n",
              "}\n",
              "#T_26ee4_row1_col0, #T_26ee4_row1_col1, #T_26ee4_row1_col2 {\n",
              "  background-color: #e5d8bd;\n",
              "  color: #000000;\n",
              "}\n",
              "#T_26ee4_row2_col0, #T_26ee4_row2_col1, #T_26ee4_row2_col2, #T_26ee4_row3_col0, #T_26ee4_row3_col1, #T_26ee4_row3_col2 {\n",
              "  background-color: #f2f2f2;\n",
              "  color: #000000;\n",
              "}\n",
              "#T_26ee4_row4_col0, #T_26ee4_row4_col1, #T_26ee4_row4_col2 {\n",
              "  background-color: #fbb4ae;\n",
              "  color: #000000;\n",
              "}\n",
              "</style>\n",
              "<table id=\"T_26ee4_\" class=\"dataframe\">\n",
              "  <thead>\n",
              "    <tr>\n",
              "      <th class=\"blank\" >&nbsp;</th>\n",
              "      <th class=\"index_name level0\" >location_type</th>\n",
              "      <th class=\"col_heading level0 col0\" >Rural</th>\n",
              "      <th class=\"col_heading level0 col1\" >Urban</th>\n",
              "      <th class=\"col_heading level0 col2\" >All</th>\n",
              "    </tr>\n",
              "    <tr>\n",
              "      <th class=\"index_name level0\" >bank_account</th>\n",
              "      <th class=\"index_name level1\" >gender_of_respondent</th>\n",
              "      <th class=\"blank col0\" >&nbsp;</th>\n",
              "      <th class=\"blank col1\" >&nbsp;</th>\n",
              "      <th class=\"blank col2\" >&nbsp;</th>\n",
              "    </tr>\n",
              "  </thead>\n",
              "  <tbody>\n",
              "    <tr>\n",
              "      <th id=\"T_26ee4_level0_row0\" class=\"row_heading level0 row0\" rowspan=\"2\">No</th>\n",
              "      <th id=\"T_26ee4_level1_row0\" class=\"row_heading level1 row0\" >Female</th>\n",
              "      <td id=\"T_26ee4_row0_col0\" class=\"data row0 col0\" >7810</td>\n",
              "      <td id=\"T_26ee4_row0_col1\" class=\"data row0 col1\" >4585</td>\n",
              "      <td id=\"T_26ee4_row0_col2\" class=\"data row0 col2\" >12395</td>\n",
              "    </tr>\n",
              "    <tr>\n",
              "      <th id=\"T_26ee4_level1_row1\" class=\"row_heading level1 row1\" >Male</th>\n",
              "      <td id=\"T_26ee4_row1_col0\" class=\"data row1 col0\" >4862</td>\n",
              "      <td id=\"T_26ee4_row1_col1\" class=\"data row1 col1\" >2955</td>\n",
              "      <td id=\"T_26ee4_row1_col2\" class=\"data row1 col2\" >7817</td>\n",
              "    </tr>\n",
              "    <tr>\n",
              "      <th id=\"T_26ee4_level0_row2\" class=\"row_heading level0 row2\" rowspan=\"2\">Yes</th>\n",
              "      <th id=\"T_26ee4_level1_row2\" class=\"row_heading level1 row2\" >Female</th>\n",
              "      <td id=\"T_26ee4_row2_col0\" class=\"data row2 col0\" >724</td>\n",
              "      <td id=\"T_26ee4_row2_col1\" class=\"data row2 col1\" >758</td>\n",
              "      <td id=\"T_26ee4_row2_col2\" class=\"data row2 col2\" >1482</td>\n",
              "    </tr>\n",
              "    <tr>\n",
              "      <th id=\"T_26ee4_level1_row3\" class=\"row_heading level1 row3\" >Male</th>\n",
              "      <td id=\"T_26ee4_row3_col0\" class=\"data row3 col0\" >947</td>\n",
              "      <td id=\"T_26ee4_row3_col1\" class=\"data row3 col1\" >883</td>\n",
              "      <td id=\"T_26ee4_row3_col2\" class=\"data row3 col2\" >1830</td>\n",
              "    </tr>\n",
              "    <tr>\n",
              "      <th id=\"T_26ee4_level0_row4\" class=\"row_heading level0 row4\" >All</th>\n",
              "      <th id=\"T_26ee4_level1_row4\" class=\"row_heading level1 row4\" ></th>\n",
              "      <td id=\"T_26ee4_row4_col0\" class=\"data row4 col0\" >14343</td>\n",
              "      <td id=\"T_26ee4_row4_col1\" class=\"data row4 col1\" >9181</td>\n",
              "      <td id=\"T_26ee4_row4_col2\" class=\"data row4 col2\" >23524</td>\n",
              "    </tr>\n",
              "  </tbody>\n",
              "</table>\n"
            ]
          },
          "metadata": {},
          "execution_count": 70
        }
      ]
    },
    {
      "cell_type": "markdown",
      "source": [
        "**Observations**\n",
        "\n",
        "From the output, more men have bank accounts compared to women. We also see that men living in rural areas have more accounts than those living in urban areas while women living in urban areas have more bank accounts compared to those living in rural areas."
      ],
      "metadata": {
        "id": "EBNnst2pkUeB"
      }
    },
    {
      "cell_type": "code",
      "source": [
        "# Checking if the level of education and the job type influences having a bank account\n",
        "\n",
        "fig,ax=plt.subplots(1,2,figsize=(20,8))\n",
        "\n",
        "sns.countplot('education_level',hue='bank_account',data=train,ax=ax[0])\n",
        "ax[0].set_title('Education vs Having a Bank Account')\n",
        "\n",
        "\n",
        "sns.countplot('job_type',hue='bank_account',data=train,ax=ax[1])\n",
        "ax[1].set_title('Occupation vs Having a Bank Account')\n",
        "\n",
        "for ax in fig.axes:\n",
        "    plt.sca(ax)\n",
        "    plt.xticks(rotation=60)\n",
        "\n",
        "plt.show()\n"
      ],
      "metadata": {
        "colab": {
          "base_uri": "https://localhost:8080/",
          "height": 648
        },
        "id": "LklRpZWPlzof",
        "outputId": "71bf2a46-41ca-4db0-c85c-7f18dfc9aa25"
      },
      "execution_count": null,
      "outputs": [
        {
          "output_type": "display_data",
          "data": {
            "text/plain": [
              "<Figure size 1440x576 with 2 Axes>"
            ],
            "image/png": "[encoded data removed]"
          },
          "metadata": {
            "needs_background": "light"
          }
        }
      ]
    },
    {
      "cell_type": "markdown",
      "source": [
        "**Observations**\n",
        "\n",
        "The highest number of individuals sample went upto Primary education level and majority of the population with bank accounts are self employed."
      ],
      "metadata": {
        "id": "msluyjdmmdYe"
      }
    },
    {
      "cell_type": "code",
      "source": [
        "# We need to change some categorical attributes to numeric\n",
        "# so that we can get a summary of all correlations\n",
        "# to whether a person has a bank account or not\n",
        "\n",
        "encode = {\"bank_account\": {\"Yes\":1, \"No\":0}, \"gender_of_respondent\": {\"Male\":1, \"Female\":0},\n",
        "          \"cellphone_access\":{\"Yes\":1,\"No\":0}, \"location_type\": {\"Rural\":1, \"Urban\":0},\n",
        "          \"education_level\":{\"No formal education\":0,\"Primary education\":1, \"Secondary education\":2,\n",
        "                              \"Vocational/Specialised training\":3,\"Tertiary education\":4, \"Other/Dont know/RTA\":5},\n",
        "          \"relationship_with_head\":{\"Head of Household\":0, \"Child\":1, \"Parent\":2,\n",
        "                            \"Spouse\":3, \"Other relative\":4, \"Other non-relatives\":5},\n",
        "          \"marital_status\":{\"Married/Living together\":0, \"Single/Never Married\":1, \"Divorced/Seperated\":2,\n",
        "                            \"Widowed\":3, \"Dont know\":4}}\n"
      ],
      "metadata": {
        "id": "Tf7Go6CdmwSp"
      },
      "execution_count": null,
      "outputs": []
    },
    {
      "cell_type": "code",
      "source": [
        "train1 = train.replace(encode, inplace = False)\n",
        "train1.head()"
      ],
      "metadata": {
        "colab": {
          "base_uri": "https://localhost:8080/",
          "height": 206
        },
        "id": "6zj-KtE6qP8a",
        "outputId": "c07bd05c-3948-45f5-8a1a-167ab0d9480f"
      },
      "execution_count": null,
      "outputs": [
        {
          "output_type": "execute_result",
          "data": {
            "text/plain": [
              "  country  year    uniqueid  bank_account  location_type  cellphone_access  \\\n",
              "0   Kenya  2018  uniqueid_1             1              1                 1   \n",
              "1   Kenya  2018  uniqueid_2             0              1                 0   \n",
              "2   Kenya  2018  uniqueid_3             1              0                 1   \n",
              "3   Kenya  2018  uniqueid_4             0              1                 1   \n",
              "4   Kenya  2018  uniqueid_5             0              0                 0   \n",
              "\n",
              "   household_size  age_of_respondent  gender_of_respondent  \\\n",
              "0               3                 24                     0   \n",
              "1               5                 70                     0   \n",
              "2               5                 26                     1   \n",
              "3               5                 34                     0   \n",
              "4               8                 26                     1   \n",
              "\n",
              "   relationship_with_head  marital_status  education_level  \\\n",
              "0                       3               0                2   \n",
              "1                       0               3                0   \n",
              "2                       4               1                3   \n",
              "3                       0               0                1   \n",
              "4                       1               1                1   \n",
              "\n",
              "                    job_type  \n",
              "0              Self employed  \n",
              "1       Government Dependent  \n",
              "2              Self employed  \n",
              "3  Formally employed Private  \n",
              "4        Informally employed  "
            ],
            "text/html": [
              "\n",
              "  <div id=\"df-3452c340-bdba-40a0-bc1b-6bcc513f21d1\">\n",
              "    <div class=\"colab-df-container\">\n",
              "      <div>\n",
              "<style scoped>\n",
              "    .dataframe tbody tr th:only-of-type {\n",
              "        vertical-align: middle;\n",
              "    }\n",
              "\n",
              "    .dataframe tbody tr th {\n",
              "        vertical-align: top;\n",
              "    }\n",
              "\n",
              "    .dataframe thead th {\n",
              "        text-align: right;\n",
              "    }\n",
              "</style>\n",
              "<table border=\"1\" class=\"dataframe\">\n",
              "  <thead>\n",
              "    <tr style=\"text-align: right;\">\n",
              "      <th></th>\n",
              "      <th>country</th>\n",
              "      <th>year</th>\n",
              "      <th>uniqueid</th>\n",
              "      <th>bank_account</th>\n",
              "      <th>location_type</th>\n",
              "      <th>cellphone_access</th>\n",
              "      <th>household_size</th>\n",
              "      <th>age_of_respondent</th>\n",
              "      <th>gender_of_respondent</th>\n",
              "      <th>relationship_with_head</th>\n",
              "      <th>marital_status</th>\n",
              "      <th>education_level</th>\n",
              "      <th>job_type</th>\n",
              "    </tr>\n",
              "  </thead>\n",
              "  <tbody>\n",
              "    <tr>\n",
              "      <th>0</th>\n",
              "      <td>Kenya</td>\n",
              "      <td>2018</td>\n",
              "      <td>uniqueid_1</td>\n",
              "      <td>1</td>\n",
              "      <td>1</td>\n",
              "      <td>1</td>\n",
              "      <td>3</td>\n",
              "      <td>24</td>\n",
              "      <td>0</td>\n",
              "      <td>3</td>\n",
              "      <td>0</td>\n",
              "      <td>2</td>\n",
              "      <td>Self employed</td>\n",
              "    </tr>\n",
              "    <tr>\n",
              "      <th>1</th>\n",
              "      <td>Kenya</td>\n",
              "      <td>2018</td>\n",
              "      <td>uniqueid_2</td>\n",
              "      <td>0</td>\n",
              "      <td>1</td>\n",
              "      <td>0</td>\n",
              "      <td>5</td>\n",
              "      <td>70</td>\n",
              "      <td>0</td>\n",
              "      <td>0</td>\n",
              "      <td>3</td>\n",
              "      <td>0</td>\n",
              "      <td>Government Dependent</td>\n",
              "    </tr>\n",
              "    <tr>\n",
              "      <th>2</th>\n",
              "      <td>Kenya</td>\n",
              "      <td>2018</td>\n",
              "      <td>uniqueid_3</td>\n",
              "      <td>1</td>\n",
              "      <td>0</td>\n",
              "      <td>1</td>\n",
              "      <td>5</td>\n",
              "      <td>26</td>\n",
              "      <td>1</td>\n",
              "      <td>4</td>\n",
              "      <td>1</td>\n",
              "      <td>3</td>\n",
              "      <td>Self employed</td>\n",
              "    </tr>\n",
              "    <tr>\n",
              "      <th>3</th>\n",
              "      <td>Kenya</td>\n",
              "      <td>2018</td>\n",
              "      <td>uniqueid_4</td>\n",
              "      <td>0</td>\n",
              "      <td>1</td>\n",
              "      <td>1</td>\n",
              "      <td>5</td>\n",
              "      <td>34</td>\n",
              "      <td>0</td>\n",
              "      <td>0</td>\n",
              "      <td>0</td>\n",
              "      <td>1</td>\n",
              "      <td>Formally employed Private</td>\n",
              "    </tr>\n",
              "    <tr>\n",
              "      <th>4</th>\n",
              "      <td>Kenya</td>\n",
              "      <td>2018</td>\n",
              "      <td>uniqueid_5</td>\n",
              "      <td>0</td>\n",
              "      <td>0</td>\n",
              "      <td>0</td>\n",
              "      <td>8</td>\n",
              "      <td>26</td>\n",
              "      <td>1</td>\n",
              "      <td>1</td>\n",
              "      <td>1</td>\n",
              "      <td>1</td>\n",
              "      <td>Informally employed</td>\n",
              "    </tr>\n",
              "  </tbody>\n",
              "</table>\n",
              "</div>\n",
              "      <button class=\"colab-df-convert\" onclick=\"convertToInteractive('df-3452c340-bdba-40a0-bc1b-6bcc513f21d1')\"\n",
              "              title=\"Convert this dataframe to an interactive table.\"\n",
              "              style=\"display:none;\">\n",
              "        \n",
              "  <svg xmlns=\"http://www.w3.org/2000/svg\" height=\"24px\"viewBox=\"0 0 24 24\"\n",
              "       width=\"24px\">\n",
              "    <path d=\"M0 0h24v24H0V0z\" fill=\"none\"/>\n",
              "    <path d=\"M18.56 5.44l.94 2.06.94-2.06 2.06-.94-2.06-.94-.94-2.06-.94 2.06-2.06.94zm-11 1L8.5 8.5l.94-2.06 2.06-.94-2.06-.94L8.5 2.5l-.94 2.06-2.06.94zm10 10l.94 2.06.94-2.06 2.06-.94-2.06-.94-.94-2.06-.94 2.06-2.06.94z\"/><path d=\"M17.41 7.96l-1.37-1.37c-.4-.4-.92-.59-1.43-.59-.52 0-1.04.2-1.43.59L10.3 9.45l-7.72 7.72c-.78.78-.78 2.05 0 2.83L4 21.41c.39.39.9.59 1.41.59.51 0 1.02-.2 1.41-.59l7.78-7.78 2.81-2.81c.8-.78.8-2.07 0-2.86zM5.41 20L4 18.59l7.72-7.72 1.47 1.35L5.41 20z\"/>\n",
              "  </svg>\n",
              "      </button>\n",
              "      \n",
              "  <style>\n",
              "    .colab-df-container {\n",
              "      display:flex;\n",
              "      flex-wrap:wrap;\n",
              "      gap: 12px;\n",
              "    }\n",
              "\n",
              "    .colab-df-convert {\n",
              "      background-color: #E8F0FE;\n",
              "      border: none;\n",
              "      border-radius: 50%;\n",
              "      cursor: pointer;\n",
              "      display: none;\n",
              "      fill: #1967D2;\n",
              "      height: 32px;\n",
              "      padding: 0 0 0 0;\n",
              "      width: 32px;\n",
              "    }\n",
              "\n",
              "    .colab-df-convert:hover {\n",
              "      background-color: #E2EBFA;\n",
              "      box-shadow: 0px 1px 2px rgba(60, 64, 67, 0.3), 0px 1px 3px 1px rgba(60, 64, 67, 0.15);\n",
              "      fill: #174EA6;\n",
              "    }\n",
              "\n",
              "    [theme=dark] .colab-df-convert {\n",
              "      background-color: #3B4455;\n",
              "      fill: #D2E3FC;\n",
              "    }\n",
              "\n",
              "    [theme=dark] .colab-df-convert:hover {\n",
              "      background-color: #434B5C;\n",
              "      box-shadow: 0px 1px 3px 1px rgba(0, 0, 0, 0.15);\n",
              "      filter: drop-shadow(0px 1px 2px rgba(0, 0, 0, 0.3));\n",
              "      fill: #FFFFFF;\n",
              "    }\n",
              "  </style>\n",
              "\n",
              "      <script>\n",
              "        const buttonEl =\n",
              "          document.querySelector('#df-3452c340-bdba-40a0-bc1b-6bcc513f21d1 button.colab-df-convert');\n",
              "        buttonEl.style.display =\n",
              "          google.colab.kernel.accessAllowed ? 'block' : 'none';\n",
              "\n",
              "        async function convertToInteractive(key) {\n",
              "          const element = document.querySelector('#df-3452c340-bdba-40a0-bc1b-6bcc513f21d1');\n",
              "          const dataTable =\n",
              "            await google.colab.kernel.invokeFunction('convertToInteractive',\n",
              "                                                     [key], {});\n",
              "          if (!dataTable) return;\n",
              "\n",
              "          const docLinkHtml = 'Like what you see? Visit the ' +\n",
              "            '<a target=\"_blank\" href=https://colab.research.google.com/notebooks/data_table.ipynb>data table notebook</a>'\n",
              "            + ' to learn more about interactive tables.';\n",
              "          element.innerHTML = '';\n",
              "          dataTable['output_type'] = 'display_data';\n",
              "          await google.colab.output.renderOutput(dataTable, element);\n",
              "          const docLink = document.createElement('div');\n",
              "          docLink.innerHTML = docLinkHtml;\n",
              "          element.appendChild(docLink);\n",
              "        }\n",
              "      </script>\n",
              "    </div>\n",
              "  </div>\n",
              "  "
            ]
          },
          "metadata": {},
          "execution_count": 73
        }
      ]
    },
    {
      "cell_type": "code",
      "source": [
        "test1 = test.replace(encode, inplace = False)\n",
        "test1.head()"
      ],
      "metadata": {
        "colab": {
          "base_uri": "https://localhost:8080/",
          "height": 206
        },
        "id": "5ahtWYpBLcc2",
        "outputId": "2756dac4-fd5c-4273-ddfe-10ebbd39cbe1"
      },
      "execution_count": null,
      "outputs": [
        {
          "output_type": "execute_result",
          "data": {
            "text/plain": [
              "  country  year       uniqueid  location_type  cellphone_access  \\\n",
              "0   Kenya  2018  uniqueid_6056              0                 1   \n",
              "1   Kenya  2018  uniqueid_6060              0                 1   \n",
              "2   Kenya  2018  uniqueid_6065              1                 0   \n",
              "3   Kenya  2018  uniqueid_6072              1                 0   \n",
              "4   Kenya  2018  uniqueid_6073              0                 0   \n",
              "\n",
              "   household_size  age_of_respondent  gender_of_respondent  \\\n",
              "0               3                 30                     1   \n",
              "1               7                 51                     1   \n",
              "2               3                 77                     0   \n",
              "3               6                 39                     0   \n",
              "4               3                 16                     1   \n",
              "\n",
              "   relationship_with_head  marital_status  education_level  \\\n",
              "0                       0               0                2   \n",
              "1                       0               0                3   \n",
              "2                       2               0                0   \n",
              "3                       0               0                1   \n",
              "4                       1               1                2   \n",
              "\n",
              "                       job_type  \n",
              "0  Formally employed Government  \n",
              "1     Formally employed Private  \n",
              "2          Remittance Dependent  \n",
              "3          Remittance Dependent  \n",
              "4          Remittance Dependent  "
            ],
            "text/html": [
              "\n",
              "  <div id=\"df-fa703ee5-9856-477b-a273-2e6f2b3b630a\">\n",
              "    <div class=\"colab-df-container\">\n",
              "      <div>\n",
              "<style scoped>\n",
              "    .dataframe tbody tr th:only-of-type {\n",
              "        vertical-align: middle;\n",
              "    }\n",
              "\n",
              "    .dataframe tbody tr th {\n",
              "        vertical-align: top;\n",
              "    }\n",
              "\n",
              "    .dataframe thead th {\n",
              "        text-align: right;\n",
              "    }\n",
              "</style>\n",
              "<table border=\"1\" class=\"dataframe\">\n",
              "  <thead>\n",
              "    <tr style=\"text-align: right;\">\n",
              "      <th></th>\n",
              "      <th>country</th>\n",
              "      <th>year</th>\n",
              "      <th>uniqueid</th>\n",
              "      <th>location_type</th>\n",
              "      <th>cellphone_access</th>\n",
              "      <th>household_size</th>\n",
              "      <th>age_of_respondent</th>\n",
              "      <th>gender_of_respondent</th>\n",
              "      <th>relationship_with_head</th>\n",
              "      <th>marital_status</th>\n",
              "      <th>education_level</th>\n",
              "      <th>job_type</th>\n",
              "    </tr>\n",
              "  </thead>\n",
              "  <tbody>\n",
              "    <tr>\n",
              "      <th>0</th>\n",
              "      <td>Kenya</td>\n",
              "      <td>2018</td>\n",
              "      <td>uniqueid_6056</td>\n",
              "      <td>0</td>\n",
              "      <td>1</td>\n",
              "      <td>3</td>\n",
              "      <td>30</td>\n",
              "      <td>1</td>\n",
              "      <td>0</td>\n",
              "      <td>0</td>\n",
              "      <td>2</td>\n",
              "      <td>Formally employed Government</td>\n",
              "    </tr>\n",
              "    <tr>\n",
              "      <th>1</th>\n",
              "      <td>Kenya</td>\n",
              "      <td>2018</td>\n",
              "      <td>uniqueid_6060</td>\n",
              "      <td>0</td>\n",
              "      <td>1</td>\n",
              "      <td>7</td>\n",
              "      <td>51</td>\n",
              "      <td>1</td>\n",
              "      <td>0</td>\n",
              "      <td>0</td>\n",
              "      <td>3</td>\n",
              "      <td>Formally employed Private</td>\n",
              "    </tr>\n",
              "    <tr>\n",
              "      <th>2</th>\n",
              "      <td>Kenya</td>\n",
              "      <td>2018</td>\n",
              "      <td>uniqueid_6065</td>\n",
              "      <td>1</td>\n",
              "      <td>0</td>\n",
              "      <td>3</td>\n",
              "      <td>77</td>\n",
              "      <td>0</td>\n",
              "      <td>2</td>\n",
              "      <td>0</td>\n",
              "      <td>0</td>\n",
              "      <td>Remittance Dependent</td>\n",
              "    </tr>\n",
              "    <tr>\n",
              "      <th>3</th>\n",
              "      <td>Kenya</td>\n",
              "      <td>2018</td>\n",
              "      <td>uniqueid_6072</td>\n",
              "      <td>1</td>\n",
              "      <td>0</td>\n",
              "      <td>6</td>\n",
              "      <td>39</td>\n",
              "      <td>0</td>\n",
              "      <td>0</td>\n",
              "      <td>0</td>\n",
              "      <td>1</td>\n",
              "      <td>Remittance Dependent</td>\n",
              "    </tr>\n",
              "    <tr>\n",
              "      <th>4</th>\n",
              "      <td>Kenya</td>\n",
              "      <td>2018</td>\n",
              "      <td>uniqueid_6073</td>\n",
              "      <td>0</td>\n",
              "      <td>0</td>\n",
              "      <td>3</td>\n",
              "      <td>16</td>\n",
              "      <td>1</td>\n",
              "      <td>1</td>\n",
              "      <td>1</td>\n",
              "      <td>2</td>\n",
              "      <td>Remittance Dependent</td>\n",
              "    </tr>\n",
              "  </tbody>\n",
              "</table>\n",
              "</div>\n",
              "      <button class=\"colab-df-convert\" onclick=\"convertToInteractive('df-fa703ee5-9856-477b-a273-2e6f2b3b630a')\"\n",
              "              title=\"Convert this dataframe to an interactive table.\"\n",
              "              style=\"display:none;\">\n",
              "        \n",
              "  <svg xmlns=\"http://www.w3.org/2000/svg\" height=\"24px\"viewBox=\"0 0 24 24\"\n",
              "       width=\"24px\">\n",
              "    <path d=\"M0 0h24v24H0V0z\" fill=\"none\"/>\n",
              "    <path d=\"M18.56 5.44l.94 2.06.94-2.06 2.06-.94-2.06-.94-.94-2.06-.94 2.06-2.06.94zm-11 1L8.5 8.5l.94-2.06 2.06-.94-2.06-.94L8.5 2.5l-.94 2.06-2.06.94zm10 10l.94 2.06.94-2.06 2.06-.94-2.06-.94-.94-2.06-.94 2.06-2.06.94z\"/><path d=\"M17.41 7.96l-1.37-1.37c-.4-.4-.92-.59-1.43-.59-.52 0-1.04.2-1.43.59L10.3 9.45l-7.72 7.72c-.78.78-.78 2.05 0 2.83L4 21.41c.39.39.9.59 1.41.59.51 0 1.02-.2 1.41-.59l7.78-7.78 2.81-2.81c.8-.78.8-2.07 0-2.86zM5.41 20L4 18.59l7.72-7.72 1.47 1.35L5.41 20z\"/>\n",
              "  </svg>\n",
              "      </button>\n",
              "      \n",
              "  <style>\n",
              "    .colab-df-container {\n",
              "      display:flex;\n",
              "      flex-wrap:wrap;\n",
              "      gap: 12px;\n",
              "    }\n",
              "\n",
              "    .colab-df-convert {\n",
              "      background-color: #E8F0FE;\n",
              "      border: none;\n",
              "      border-radius: 50%;\n",
              "      cursor: pointer;\n",
              "      display: none;\n",
              "      fill: #1967D2;\n",
              "      height: 32px;\n",
              "      padding: 0 0 0 0;\n",
              "      width: 32px;\n",
              "    }\n",
              "\n",
              "    .colab-df-convert:hover {\n",
              "      background-color: #E2EBFA;\n",
              "      box-shadow: 0px 1px 2px rgba(60, 64, 67, 0.3), 0px 1px 3px 1px rgba(60, 64, 67, 0.15);\n",
              "      fill: #174EA6;\n",
              "    }\n",
              "\n",
              "    [theme=dark] .colab-df-convert {\n",
              "      background-color: #3B4455;\n",
              "      fill: #D2E3FC;\n",
              "    }\n",
              "\n",
              "    [theme=dark] .colab-df-convert:hover {\n",
              "      background-color: #434B5C;\n",
              "      box-shadow: 0px 1px 3px 1px rgba(0, 0, 0, 0.15);\n",
              "      filter: drop-shadow(0px 1px 2px rgba(0, 0, 0, 0.3));\n",
              "      fill: #FFFFFF;\n",
              "    }\n",
              "  </style>\n",
              "\n",
              "      <script>\n",
              "        const buttonEl =\n",
              "          document.querySelector('#df-fa703ee5-9856-477b-a273-2e6f2b3b630a button.colab-df-convert');\n",
              "        buttonEl.style.display =\n",
              "          google.colab.kernel.accessAllowed ? 'block' : 'none';\n",
              "\n",
              "        async function convertToInteractive(key) {\n",
              "          const element = document.querySelector('#df-fa703ee5-9856-477b-a273-2e6f2b3b630a');\n",
              "          const dataTable =\n",
              "            await google.colab.kernel.invokeFunction('convertToInteractive',\n",
              "                                                     [key], {});\n",
              "          if (!dataTable) return;\n",
              "\n",
              "          const docLinkHtml = 'Like what you see? Visit the ' +\n",
              "            '<a target=\"_blank\" href=https://colab.research.google.com/notebooks/data_table.ipynb>data table notebook</a>'\n",
              "            + ' to learn more about interactive tables.';\n",
              "          element.innerHTML = '';\n",
              "          dataTable['output_type'] = 'display_data';\n",
              "          await google.colab.output.renderOutput(dataTable, element);\n",
              "          const docLink = document.createElement('div');\n",
              "          docLink.innerHTML = docLinkHtml;\n",
              "          element.appendChild(docLink);\n",
              "        }\n",
              "      </script>\n",
              "    </div>\n",
              "  </div>\n",
              "  "
            ]
          },
          "metadata": {},
          "execution_count": 74
        }
      ]
    },
    {
      "cell_type": "code",
      "source": [
        "\n",
        "# From the encoded data, we can now find the correlation between the different variables\n",
        "# and access to bank account status\n",
        "\n",
        "print(train1['household_size'].corr(train1['bank_account']))\n",
        "print(train1['location_type'].corr(train1['bank_account']))\n",
        "print(train1['gender_of_respondent'].corr(train1['bank_account']))\n",
        "print(train1['cellphone_access'].corr(train1['bank_account']))"
      ],
      "metadata": {
        "colab": {
          "base_uri": "https://localhost:8080/"
        },
        "id": "Cewu_bwMq0rJ",
        "outputId": "f47fb792-8f19-43aa-e491-1fcc735f8da5"
      },
      "execution_count": null,
      "outputs": [
        {
          "output_type": "stream",
          "name": "stdout",
          "text": [
            "-0.028326471628604428\n",
            "-0.08728829079224291\n",
            "0.11723388834661755\n",
            "0.2096687653474873\n"
          ]
        }
      ]
    },
    {
      "cell_type": "markdown",
      "source": [
        "**Implementing the Solution**\n",
        "\n",
        "Here, we are going to use Principal Component Analysis (PCA) to select the most important features in the dataset that tell us the maximum amount of information about the dataset"
      ],
      "metadata": {
        "id": "k6s2kLLqrhX6"
      }
    },
    {
      "cell_type": "code",
      "source": [
        "\n",
        "# We will start by preprocessing i.e by dividing our dataset into a feature set and corresponding labels\n",
        "# Will assign the feature sets the variable avand the series of corresponding labels the variable b\n",
        "\n",
        "a = train1.drop('bank_account',1)\n",
        "b = train1['bank_account']\n"
      ],
      "metadata": {
        "id": "KumWYgkqMWa9"
      },
      "execution_count": null,
      "outputs": []
    },
    {
      "cell_type": "code",
      "source": [
        "# We then split the dataset into Training set and Test set\n",
        "# we shall define the size of the test data as 20% of entire dataset\n",
        "\n",
        "from sklearn.model_selection import train_test_split\n",
        "\n",
        "a_train, a_test, b_train, b_test = train_test_split(a, b, test_size=0.2, random_state=0)"
      ],
      "metadata": {
        "id": "po-ZMzn4MuWQ"
      },
      "execution_count": null,
      "outputs": []
    },
    {
      "cell_type": "code",
      "source": [
        "# We will perform standard scalar normalization to normalize our feature set\n",
        "\n",
        "from sklearn.preprocessing import StandardScaler\n",
        "\n",
        "sc = StandardScaler()\n",
        "a_train = sc.fit_transform(a_train)\n",
        "a_test = sc.transform(a_test)\n"
      ],
      "metadata": {
        "id": "sAtoj9BfMynG"
      },
      "execution_count": null,
      "outputs": []
    },
    {
      "cell_type": "code",
      "source": [
        "\n",
        "# Now we will apply PCA\n",
        "\n",
        "# The expectation is to return all the features in the feature set for both the training and test sets\n",
        "# since the number of components in the constructor will not be specified\n",
        "\n",
        "from sklearn.decomposition import PCA\n",
        "\n",
        "pca = PCA()\n",
        "a_train = pca.fit_transform(a_train)\n",
        "a_test = pca.transform(a_test)"
      ],
      "metadata": {
        "id": "Z56jhyr4M310"
      },
      "execution_count": null,
      "outputs": []
    },
    {
      "cell_type": "code",
      "source": [
        "\n",
        "# Explained Variance Ratio\n",
        "\n",
        "# Checking the variance caused by the principal components using\n",
        "# the explained variance ratio\n",
        "\n",
        "explained_variance = pca.explained_variance_ratio_\n",
        "explained_variance\n"
      ],
      "metadata": {
        "colab": {
          "base_uri": "https://localhost:8080/"
        },
        "id": "f_-cEZILM6NX",
        "outputId": "52b60276-0cca-4b08-bf5e-ed803df13599"
      },
      "execution_count": null,
      "outputs": [
        {
          "output_type": "execute_result",
          "data": {
            "text/plain": [
              "array([0.23089582, 0.18838749, 0.16739239, 0.11620202, 0.09419517,\n",
              "       0.08248313, 0.07309964, 0.04734434])"
            ]
          },
          "metadata": {},
          "execution_count": 84
        }
      ]
    },
    {
      "cell_type": "markdown",
      "source": [
        "Observations\n",
        "\n",
        "The output shows that the first principal component is responsible for 23.08% variance and the second principal component causes 18.83% variance in the dataset. We can therefore say that 41.91% (23.08 + 18.83) of the classification information contained in the feature set is captured by the first two principal components."
      ],
      "metadata": {
        "id": "8XaynfIQM7zP"
      }
    },
    {
      "cell_type": "code",
      "source": [
        "# Using 1 Principal Component to train algorithm\n",
        "\n",
        "from sklearn.decomposition import PCA\n",
        "\n",
        "pca = PCA(n_components=1)\n",
        "a_train = pca.fit_transform(a_train)\n",
        "a_test = pca.transform(a_test)"
      ],
      "metadata": {
        "id": "0d8QslI9NVMX"
      },
      "execution_count": null,
      "outputs": []
    },
    {
      "cell_type": "code",
      "source": [
        "# Training and Making Predictions using random forest classification\n",
        "\n",
        "from sklearn.ensemble import RandomForestClassifier\n",
        "\n",
        "classifier = RandomForestClassifier(max_depth=2, random_state=0)\n",
        "classifier.fit(a_train, b_train)\n",
        "\n",
        "# Predicting the Test set results\n",
        "b_pred = classifier.predict(a_test)\n",
        ""
      ],
      "metadata": {
        "id": "psi6KuA7NXp1"
      },
      "execution_count": null,
      "outputs": []
    },
    {
      "cell_type": "code",
      "source": [
        "\n",
        "# Performance Evaluation\n",
        "\n",
        "from sklearn.metrics import confusion_matrix\n",
        "from sklearn.metrics import accuracy_score\n",
        "\n",
        "cm = confusion_matrix(b_test, b_pred)\n",
        "print(cm)\n",
        "print('Accuracy' , accuracy_score(b_test, b_pred))\n"
      ],
      "metadata": {
        "colab": {
          "base_uri": "https://localhost:8080/"
        },
        "id": "hZkBrmyZNa5P",
        "outputId": "70f1f0ef-2b12-4fec-99ea-5d88ca92b225"
      },
      "execution_count": null,
      "outputs": [
        {
          "output_type": "stream",
          "name": "stdout",
          "text": [
            "[[4005    0]\n",
            " [ 700    0]]\n",
            "Accuracy 0.8512221041445271\n"
          ]
        }
      ]
    },
    {
      "cell_type": "markdown",
      "source": [
        "Observations\n",
        "\n",
        "The random forest algorithm is able to correctly predict a 85.12% accuracy with only one feature."
      ],
      "metadata": {
        "id": "hiwxvGdXNe4Z"
      }
    },
    {
      "cell_type": "code",
      "source": [
        "\n",
        "# Using 2 Principal Components to train algorithm\n",
        "# and make predictions using random forest classification\n",
        "\n",
        "a_train, a_test, b_train, b_test = train_test_split(a, b, test_size=0.2, random_state=0)\n",
        "\n",
        "sc = StandardScaler()\n",
        "a_train = sc.fit_transform(a_train)\n",
        "a_test = sc.transform(a_test)\n",
        "\n",
        "pca = PCA(n_components=2)\n",
        "a_train = pca.fit_transform(a_train)\n",
        "a_test = pca.transform(a_test)\n",
        "\n",
        "classifier = RandomForestClassifier(max_depth=2, random_state=0)\n",
        "classifier.fit(a_train, b_train)\n",
        "\n",
        "from sklearn.metrics import confusion_matrix\n",
        "from sklearn.metrics import accuracy_score\n",
        "\n",
        "cm = confusion_matrix(b_test, b_pred)\n",
        "print(cm)\n",
        "print('Accuracy' , accuracy_score(b_test, b_pred))"
      ],
      "metadata": {
        "colab": {
          "base_uri": "https://localhost:8080/"
        },
        "id": "Iq9W-DBLNdj-",
        "outputId": "fc9d402f-5ef8-4f15-cad5-6e4dfc9b147e"
      },
      "execution_count": null,
      "outputs": [
        {
          "output_type": "stream",
          "name": "stdout",
          "text": [
            "[[4005    0]\n",
            " [ 700    0]]\n",
            "Accuracy 0.8512221041445271\n"
          ]
        }
      ]
    },
    {
      "cell_type": "markdown",
      "source": [
        "Observations\n",
        "\n",
        "With two features, the random forest algorithm is able to correctly predict an 85.12% accuracy."
      ],
      "metadata": {
        "id": "TGKZZ8E4Nqfu"
      }
    },
    {
      "cell_type": "markdown",
      "source": [
        "\n",
        "## Follow up questions\n",
        "> How does other finchech products like mobile banking and mobile money tranbsfer contribute to Finacial Inclusivity in East Africa?\n",
        "\n",
        "### a). Did we have the right data?\n",
        "> Yes.\n",
        "> Because we were able to detemine the number of people who have access to the bank within the rural and the urban areas. We were also able to consider other factors like job type, level of education,location type and other factors.\n",
        "\n",
        "### b). Do we need other data to answer our question?\n",
        "\n",
        "> Yes.\n",
        "\n",
        "> We need data on other fintech products like mobile banking,mobile money transfer and other products that are highly encouraged to ensure financial inclusion in East Africa.\n",
        "\n",
        "### c). Did we have the right question?\n",
        "\n",
        "> Yes we had the right question since the factors such as age, marital status, type of location, type of job and the level of education help drive the financial outcome of an individual. This will determanine whether one will have a bank account or not."
      ],
      "metadata": {
        "id": "kV4I43-YN_Bf"
      }
    },
    {
      "cell_type": "code",
      "source": [],
      "metadata": {
        "id": "VMS5erMSN82E"
      },
      "execution_count": null,
      "outputs": []
    }
  ]
}